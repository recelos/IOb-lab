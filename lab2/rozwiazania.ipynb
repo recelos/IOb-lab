{
 "cells": [
  {
   "cell_type": "markdown",
   "metadata": {},
   "source": [
    "# Zadanie 1"
   ]
  },
  {
   "cell_type": "code",
   "execution_count": 5,
   "metadata": {},
   "outputs": [
    {
     "name": "stdout",
     "output_type": "stream",
     "text": [
      "hello wordl\n"
     ]
    }
   ],
   "source": [
    "print(\"hello wordl\")"
   ]
  },
  {
   "cell_type": "markdown",
   "metadata": {},
   "source": [
    "# Zadanie 2"
   ]
  },
  {
   "cell_type": "code",
   "execution_count": 8,
   "metadata": {},
   "outputs": [
    {
     "name": "stdout",
     "output_type": "stream",
     "text": [
      "  ___\n",
      "| moo |\n",
      "  ===\n",
      "           \\\n",
      "            \\\n",
      "             \\\n",
      "              \\\n",
      "               /- _  `-/  '\n",
      "              (/\\/ \\ \\   /\\\n",
      "              / /   | `    \\\n",
      "              O O   ) /    |\n",
      "              `-^--'`<     '\n",
      "             (_.)  _  )   /\n",
      "              `.___/`    /\n",
      "                `-----' /\n",
      "   <----.     __ / __   \\\n",
      "   <----|====O)))==) \\) /====\n",
      "   <----'    `--' `.__,' \\\n",
      "                |        |\n",
      "                 \\       /\n",
      "           ______( (_  / \\______\n",
      "         ,'  ,-----'   |        \\\n",
      "         `--{__________)        \\/\n"
     ]
    }
   ],
   "source": [
    "import cowsay\n",
    "\n",
    "cowsay.daemon(\"moo\")"
   ]
  },
  {
   "cell_type": "markdown",
   "metadata": {},
   "source": [
    "# Zadanie 3"
   ]
  },
  {
   "cell_type": "code",
   "execution_count": 25,
   "metadata": {},
   "outputs": [],
   "source": [
    "import math\n",
    "\n",
    "def function(values):\n",
    "    return [math.exp(value) for value in values]\n",
    "\n",
    "if __name__ == \"__main__\":\n",
    "    INPUT_FILE_NAME = \"input.txt\"\n",
    "    OUTPUT_FILE_NAME = \"output.txt\"\n",
    "\n",
    "    with open(INPUT_FILE_NAME) as input_file:\n",
    "        values = [eval(line.rstrip()) for line in input_file]\n",
    "    \n",
    "    output_values = function(values)\n",
    "    output_text = \"\"\n",
    "    \n",
    "    for i in range(0, len(values)):\n",
    "        output_text += \"arg:{:>3}, exp(arg): {:>3}\\n\".format(values[i], output_values[i])\n",
    "    \n",
    "    with open(OUTPUT_FILE_NAME, 'w') as output_file:\n",
    "        output_file.write(output_text)"
   ]
  },
  {
   "cell_type": "markdown",
   "metadata": {},
   "source": [
    "# Zadanie 4"
   ]
  },
  {
   "cell_type": "code",
   "execution_count": 11,
   "metadata": {},
   "outputs": [
    {
     "name": "stdout",
     "output_type": "stream",
     "text": [
      "16.0\n",
      "19.5\n",
      "16.0\n",
      "12.5\n",
      "12.5\n",
      "12.5\n"
     ]
    }
   ],
   "source": [
    "class Product:\n",
    "    def __init__(self, name, price, quantity):\n",
    "        self.name = name\n",
    "        self.price = price\n",
    "        self.quantity = quantity\n",
    "        \n",
    "        \n",
    "class Cart:\n",
    "    def __init__(self):\n",
    "        self.products = [Product(\"Tomato\", 3.5, 1), Product(\"Potato\", 1.25, 10)]\n",
    "    \n",
    "    def total_price(self):\n",
    "        return sum(product.price * product.quantity for product in self.products)\n",
    "    \n",
    "    def add(self, name):\n",
    "        for product in self.products:\n",
    "            if product.name == name:\n",
    "                product.quantity += 1\n",
    "    \n",
    "    def remove(self, name):\n",
    "        for product in self.products:\n",
    "            if product.name == name and product.quantity > 0:\n",
    "                product.quantity -= 1\n",
    "    \n",
    "if(__name__ == \"__main__\"):    \n",
    "    cart = Cart()\n",
    "    # 1 Tomato\n",
    "    print(cart.total_price())\n",
    "    cart.add(\"Tomato\")\n",
    "    # 2 Tomato\n",
    "    print(cart.total_price())\n",
    "    cart.remove(\"Tomato\")\n",
    "    # 1 Tomato\n",
    "    print(cart.total_price())\n",
    "    cart.remove(\"Tomato\")\n",
    "    # 0 Tomato\n",
    "    print(cart.total_price())\n",
    "    cart.remove(\"Tomato\")\n",
    "    # 0 Tomato\n",
    "    print(cart.total_price())\n",
    "    cart.add(\"apple\")\n",
    "    # nothing happens\n",
    "    print(cart.total_price())\n"
   ]
  },
  {
   "cell_type": "markdown",
   "metadata": {},
   "source": [
    "# Zadanie 5"
   ]
  },
  {
   "cell_type": "code",
   "execution_count": 29,
   "metadata": {},
   "outputs": [
    {
     "name": "stdout",
     "output_type": "stream",
     "text": [
      "Tomato: 2.5$\n",
      "Tomato, quantity: 1\n",
      "Potato, quantity: 10\n",
      "11\n",
      "Tomato\n",
      "Potato\n"
     ]
    }
   ],
   "source": [
    "class Product:\n",
    "    def __init__(self, name, price, quantity):\n",
    "        self.name = name\n",
    "        self.price = price\n",
    "        self.quantity = quantity\n",
    "    def __str__(self):\n",
    "        return \"{}: {}$\".format(self.name, self.price)\n",
    "        \n",
    "        \n",
    "class Cart:\n",
    "    def __init__(self):\n",
    "        self.products = [Product(\"Tomato\", 3.5, 1), Product(\"Potato\", 1.25, 10)]\n",
    "        self.index = 0\n",
    "    \n",
    "    def total_price(self):\n",
    "        return sum(product.price * product.quantity for product in self.products)\n",
    "    \n",
    "    def add(self, name):\n",
    "        for product in self.products:\n",
    "            if product.name == name:\n",
    "                product.quantity += 1\n",
    "    \n",
    "    def remove(self, name):\n",
    "        for product in self.products:\n",
    "            if product.name == name and product.quantity > 0:\n",
    "                product.quantity -= 1\n",
    "                \n",
    "    def __str__(self):\n",
    "        product_strings = [f\"{product.name}, quantity: {product.quantity}\" for product in self.products]\n",
    "        return \"\\n\".join(product_strings)\n",
    "    \n",
    "    def __len__(self):\n",
    "        return sum(product.quantity for product in self.products)\n",
    "\n",
    "    def __iter__(self):\n",
    "        self.index = 0\n",
    "        return self\n",
    "\n",
    "    def __next__(self):\n",
    "        if self.index < len(self.products):\n",
    "            result = self.products[self.index]\n",
    "            self.index += 1\n",
    "            return result\n",
    "        raise StopIteration\n",
    "    \n",
    "                \n",
    "if(__name__ == \"__main__\"):                \n",
    "    tomato = Product(\"Tomato\", 2.5, 3)\n",
    "    print(tomato)\n",
    "    \n",
    "    cart = Cart()\n",
    "    print(cart)\n",
    "    print(len(cart))\n",
    "    \n",
    "    for product in cart:\n",
    "        print(product.name)"
   ]
  },
  {
   "cell_type": "code",
   "execution_count": null,
   "metadata": {},
   "outputs": [],
   "source": []
  },
  {
   "cell_type": "code",
   "execution_count": null,
   "metadata": {},
   "outputs": [],
   "source": []
  },
  {
   "cell_type": "code",
   "execution_count": null,
   "metadata": {},
   "outputs": [],
   "source": []
  },
  {
   "cell_type": "code",
   "execution_count": null,
   "metadata": {},
   "outputs": [],
   "source": []
  }
 ],
 "metadata": {
  "kernelspec": {
   "display_name": "Python 3 (ipykernel)",
   "language": "python",
   "name": "python3"
  },
  "language_info": {
   "codemirror_mode": {
    "name": "ipython",
    "version": 3
   },
   "file_extension": ".py",
   "mimetype": "text/x-python",
   "name": "python",
   "nbconvert_exporter": "python",
   "pygments_lexer": "ipython3",
   "version": "3.10.7"
  }
 },
 "nbformat": 4,
 "nbformat_minor": 4
}
